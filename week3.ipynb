{
 "cells": [
  {
   "cell_type": "markdown",
   "metadata": {
    "deletable": false,
    "editable": false,
    "nbgrader": {
     "cell_type": "markdown",
     "checksum": "bba802c376893d7e912e9a3376849398",
     "grade": false,
     "grade_id": "cell-37b1bbf6f43609e8",
     "locked": true,
     "schema_version": 3,
     "solution": false,
     "task": false
    }
   },
   "source": [
    "## Module 3\n",
    "\n",
    "In this assignment, you will implement some functions related to strings, lists, sets and tuples. Each function has\n",
    "been defined for you, but without the code. See the docstring in each function for instructions on what the function\n",
    "is supposed to do and how to write the code. It should be clear enough.  In some cases, we have provided hints to help\n",
    "you get started."
   ]
  },
  {
   "cell_type": "code",
   "execution_count": 10,
   "metadata": {
    "deletable": false,
    "editable": false,
    "nbgrader": {
     "cell_type": "code",
     "checksum": "b0746b7ee0e53995bb16dd7c9d76ab0e",
     "grade": true,
     "grade_id": "init_test",
     "locked": true,
     "points": 0,
     "schema_version": 3,
     "solution": false,
     "task": false
    }
   },
   "outputs": [],
   "source": [
    "###########################################################\n",
    "### EXECUTE THIS CELL BEFORE YOU TO TEST YOUR SOLUTIONS ###\n",
    "###########################################################\n",
    "\n",
    "import unittest\n",
    "from nose.tools import assert_equal, assert_true\n",
    "import nose.tools"
   ]
  },
  {
   "cell_type": "code",
   "execution_count": 77,
   "metadata": {
    "deletable": false,
    "name": "multiply",
    "nbgrader": {
     "cell_type": "code",
     "checksum": "e0e7763f8a85e95b4edf1ee41f6f1bac",
     "grade": false,
     "grade_id": "concatenate",
     "locked": false,
     "schema_version": 3,
     "solution": true,
     "task": false
    }
   },
   "outputs": [
    {
     "data": {
      "text/plain": [
       "''"
      ]
     },
     "execution_count": 77,
     "metadata": {},
     "output_type": "execute_result"
    }
   ],
   "source": [
    "def concatenate(strings):\n",
    "    \"\"\"\n",
    "    Concatenates the given list of strings into a single string.\n",
    "    Returns the single string.\n",
    "    If the given list is empty, returns an empty string.\n",
    "\n",
    "    For example:\n",
    "    - If we call concatenate([\"a\",\"b\",\"c\"]), we'll get \"abc\" in return\n",
    "    - If we call concatenate([]), we'll get \"\" in return\n",
    "\n",
    "    Hint(s):\n",
    "    - Remember, you can create a single string from a list of multiple strings by using the join() function\n",
    "    \"\"\"\n",
    "    # your code here\n",
    "    return \"\".join(list(strings))\n",
    "\n",
    "lst = []\n",
    "concatenate(lst)"
   ]
  },
  {
   "cell_type": "code",
   "execution_count": 78,
   "metadata": {
    "deletable": false,
    "editable": false,
    "nbgrader": {
     "cell_type": "code",
     "checksum": "1a7ab3518b11e9ba99da4761923f0583",
     "grade": true,
     "grade_id": "test_concatenate",
     "locked": true,
     "points": 1,
     "schema_version": 3,
     "solution": false,
     "task": false
    }
   },
   "outputs": [
    {
     "name": "stdout",
     "output_type": "stream",
     "text": [
      "Success!\n"
     ]
    }
   ],
   "source": [
    "##########################\n",
    "### TEST YOUR SOLUTION ###\n",
    "##########################\n",
    "\n",
    "lst = [\"a\",\"b\",\"c\"]\n",
    "assert_equal(\"abc\",concatenate(lst))\n",
    "lst = []\n",
    "assert_equal(\"\",concatenate(lst))\n",
    "print(\"Success!\")"
   ]
  },
  {
   "cell_type": "code",
   "execution_count": 79,
   "metadata": {
    "deletable": false,
    "nbgrader": {
     "cell_type": "code",
     "checksum": "0870b29f2016f1e007592b0c8966538f",
     "grade": false,
     "grade_id": "all_but_last",
     "locked": false,
     "schema_version": 3,
     "solution": true,
     "task": false
    }
   },
   "outputs": [],
   "source": [
    "def all_but_last(seq):\n",
    "    \"\"\"\n",
    "    Returns a new list containing all but the last element in the given list.\n",
    "    If the list is empty, returns None.\n",
    "\n",
    "    For example:\n",
    "    - If we call all_but_last([1,2,3,4,5]), we'll get [1,2,3,4] in return\n",
    "    - If we call all_but_last([\"a\",\"d\",1,3,4,None]), we'll get [\"a\",\"d\",1,3,4] in return\n",
    "    - If we call all_but_last([]), we'll get None in return\n",
    "    \"\"\"\n",
    "    # your code here\n",
    "    if seq == []:\n",
    "        return None\n",
    "    else:\n",
    "        return seq[:len(seq)-1]\n",
    "\n",
    "all_but_last([])      "
   ]
  },
  {
   "cell_type": "code",
   "execution_count": 80,
   "metadata": {
    "deletable": false,
    "editable": false,
    "nbgrader": {
     "cell_type": "code",
     "checksum": "a40b1a246dcabfc4c69cdb69c9ed7f23",
     "grade": true,
     "grade_id": "test_all_but_last",
     "locked": true,
     "points": 1,
     "schema_version": 3,
     "solution": false,
     "task": false
    }
   },
   "outputs": [
    {
     "name": "stdout",
     "output_type": "stream",
     "text": [
      "Success!\n"
     ]
    }
   ],
   "source": [
    "##########################\n",
    "### TEST YOUR SOLUTION ###\n",
    "##########################\n",
    "\n",
    "lst = []\n",
    "assert_equal(None,all_but_last(lst))\n",
    "lst = [1,2,3,4,5]\n",
    "nose.tools.assert_list_equal([1,2,3,4],all_but_last(lst))\n",
    "lst = [\"a\",\"d\",1,3,4,None]\n",
    "nose.tools.assert_list_equal([\"a\",\"d\",1,3,4],all_but_last(lst))\n",
    "print(\"Success!\")"
   ]
  },
  {
   "cell_type": "code",
   "execution_count": 81,
   "metadata": {
    "deletable": false,
    "nbgrader": {
     "cell_type": "code",
     "checksum": "91077995ab1c6f14efa17a9eec9675c2",
     "grade": false,
     "grade_id": "remove_duplicates",
     "locked": false,
     "schema_version": 3,
     "solution": true,
     "task": false
    }
   },
   "outputs": [],
   "source": [
    "def remove_duplicates(lst):\n",
    "    \"\"\"\n",
    "    Returns the given list without duplicates.\n",
    "    The order of the returned list doesn't matter.\n",
    "\n",
    "    For example:\n",
    "    - If we call remove_duplicates([1,2,1,3,4]), we'll get [1,2,3,4] in return\n",
    "    - If we call remove_duplicates([]), we'll get [] in return\n",
    "\n",
    "    Hint(s):\n",
    "    - Remember, you can create a set from a string, which will remove the duplicate elements\n",
    "    \"\"\"\n",
    "    \n",
    "    # your code here\n",
    "    return set(lst)"
   ]
  },
  {
   "cell_type": "code",
   "execution_count": 82,
   "metadata": {
    "deletable": false,
    "editable": false,
    "nbgrader": {
     "cell_type": "code",
     "checksum": "8f757ddb4fc4360551d2b19e73aed450",
     "grade": true,
     "grade_id": "test_remove_duplicates",
     "locked": true,
     "points": 1,
     "schema_version": 3,
     "solution": false,
     "task": false
    }
   },
   "outputs": [
    {
     "name": "stdout",
     "output_type": "stream",
     "text": [
      "Success!\n"
     ]
    }
   ],
   "source": [
    "##########################\n",
    "### TEST YOUR SOLUTION ###\n",
    "##########################\n",
    "\n",
    "lst = [1,3,4,3,4,5,2]\n",
    "nose.tools.assert_count_equal([1,3,4,5,2],remove_duplicates(lst))\n",
    "lst = []\n",
    "nose.tools.assert_count_equal([],remove_duplicates(lst))\n",
    "print(\"Success!\")"
   ]
  },
  {
   "cell_type": "code",
   "execution_count": 83,
   "metadata": {
    "deletable": false,
    "nbgrader": {
     "cell_type": "code",
     "checksum": "255701202f3074ab3e4932a5da05e2c1",
     "grade": false,
     "grade_id": "reverse_word",
     "locked": false,
     "schema_version": 3,
     "solution": true,
     "task": false
    }
   },
   "outputs": [],
   "source": [
    "def reverse_word(word):\n",
    "    \"\"\"\n",
    "    Reverses the order of the characters in the given word.\n",
    "\n",
    "    For example:\n",
    "    - If we call reverse_word(\"abcde\"), we'll get \"edcba\" in return\n",
    "    - If we call reverse_word(\"a b c d e\"), we'll get \"e d c b a\" in return\n",
    "    - If we call reverse_word(\"a  b\"), we'll get \"b  a\" in return\n",
    "    - If we call reverse_word(\"\"), we'll get \"\" in return\n",
    "\n",
    "    Hint(s):\n",
    "    - You can iterate over a word in reverse and access each character\n",
    "    \"\"\"\n",
    "    \n",
    "    # your code here\n",
    "    return word[::-1]"
   ]
  },
  {
   "cell_type": "code",
   "execution_count": 84,
   "metadata": {
    "deletable": false,
    "editable": false,
    "nbgrader": {
     "cell_type": "code",
     "checksum": "625c0b1d6030edea8e48afa8e65abf38",
     "grade": true,
     "grade_id": "test_reverse_word",
     "locked": true,
     "points": 1,
     "schema_version": 3,
     "solution": false,
     "task": false
    }
   },
   "outputs": [
    {
     "name": "stdout",
     "output_type": "stream",
     "text": [
      "Success!\n"
     ]
    }
   ],
   "source": [
    "##########################\n",
    "### TEST YOUR SOLUTION ###\n",
    "##########################\n",
    "\n",
    "word = \"abcdefg\"\n",
    "assert_equal(\"gfedcba\",reverse_word(word))\n",
    "\n",
    "word = \"a b c d e f g\"\n",
    "assert_equal(\"g f e d c b a\",reverse_word(word))\n",
    "\n",
    "word = \"a b\"\n",
    "assert_equal(\"b a\",reverse_word(word))\n",
    "\n",
    "word = \"\"\n",
    "assert_equal(\"\",reverse_word(word))\n",
    "print(\"Success!\")"
   ]
  },
  {
   "cell_type": "code",
   "execution_count": 85,
   "metadata": {
    "deletable": false,
    "nbgrader": {
     "cell_type": "code",
     "checksum": "3a99669c674b556d187fe56432dfc572",
     "grade": false,
     "grade_id": "divisors",
     "locked": false,
     "schema_version": 3,
     "solution": true,
     "task": false
    }
   },
   "outputs": [
    {
     "data": {
      "text/plain": [
       "[1]"
      ]
     },
     "execution_count": 85,
     "metadata": {},
     "output_type": "execute_result"
    }
   ],
   "source": [
    "def divisors(n):\n",
    "    \"\"\"\n",
    "    Returns a list with all divisors of the given number n.\n",
    "    As a reminder, a divisor is a number that evenly divides another number.\n",
    "    The returned list should include 1 and the given number n itself.\n",
    "    The order of the returned list doesn't matter.\n",
    "\n",
    "    For example:\n",
    "    - If we call divisors(10), we'll get [1,2,5,10] in return\n",
    "    - If we call divisors(1), we'll get [1] in return\n",
    "    \"\"\"\n",
    "    # your code here\n",
    "    divisor = []\n",
    "    for i in range(1, n+1):\n",
    "        if n%i == 0:\n",
    "            divisor.append(i)\n",
    "    return divisor\n",
    "divisors(1)"
   ]
  },
  {
   "cell_type": "code",
   "execution_count": 86,
   "metadata": {
    "deletable": false,
    "editable": false,
    "nbgrader": {
     "cell_type": "code",
     "checksum": "89980aca8c0d977ab40e986b752ceeeb",
     "grade": true,
     "grade_id": "test_divisors",
     "locked": true,
     "points": 1,
     "schema_version": 3,
     "solution": false,
     "task": false
    }
   },
   "outputs": [
    {
     "name": "stdout",
     "output_type": "stream",
     "text": [
      "Success!\n"
     ]
    }
   ],
   "source": [
    "##########################\n",
    "### TEST YOUR SOLUTION ###\n",
    "##########################\n",
    "\n",
    "number = 10\n",
    "nose.tools.assert_count_equal([1,2,5,10],divisors(number))\n",
    "\n",
    "number = 1\n",
    "nose.tools.assert_count_equal([1],divisors(number))\n",
    "\n",
    "number = 7\n",
    "nose.tools.assert_count_equal([1,7],divisors(number))\n",
    "print(\"Success!\")"
   ]
  },
  {
   "cell_type": "code",
   "execution_count": 87,
   "metadata": {
    "deletable": false,
    "nbgrader": {
     "cell_type": "code",
     "checksum": "748cdfabc5cd8e9327cb62dc4eeadd49",
     "grade": false,
     "grade_id": "capitalize_or_join",
     "locked": false,
     "schema_version": 3,
     "solution": true,
     "task": false
    }
   },
   "outputs": [
    {
     "data": {
      "text/plain": [
       "'i,love,python'"
      ]
     },
     "execution_count": 87,
     "metadata": {},
     "output_type": "execute_result"
    }
   ],
   "source": [
    "def capitalize_or_join_words(sentence):\n",
    "    \"\"\"\n",
    "    If the given sentence starts with *, capitalizes the first and last letters of each word in the sentence,\n",
    "    and returns the sentence without *.\n",
    "    Else, joins all the words in the given sentence, separating them with a comma, and returns the result.\n",
    "\n",
    "    For example:\n",
    "    - If we call capitalize_or_join_words(\"*i love python\"), we'll get \"I LovE PythoN\" in return.\n",
    "    - If we call capitalize_or_join_words(\"i love python\"), we'll get \"i,love,python\" in return.\n",
    "    - If we call capitalize_or_join_words(\"i love    python  \"), we'll get \"i,love,python\" in return.\n",
    "\n",
    "    Hint(s):\n",
    "    - The startswith() function checks whether a string starts with a particualr character\n",
    "    - The capitalize() function capitalizes the first letter of a string\n",
    "    - The upper() function converts all lowercase characters in a string to uppercase\n",
    "    - The join() function creates a single string from a list of multiple strings\n",
    "    \"\"\"\n",
    "    # your code here\n",
    "    if sentence.startswith(\"*\"):\n",
    "        sentence = sentence[1:].capitalize().split()\n",
    "        sentence = sentence[0], sentence[1].capitalize(), sentence[2].capitalize()\n",
    "        capital = []\n",
    "        for word in sentence:\n",
    "            capital.append(word)\n",
    "        capital = (capital[0],  capital[1][:-1] + capital[1][-1].upper(), capital[2][:-1] + capital[2][-1].upper())\n",
    "        capital = list(capital)\n",
    "        return \" \".join(capital)\n",
    "    else:\n",
    "        sentence = sentence[:].split()\n",
    "        return \",\".join(sentence)\n",
    "\n",
    "capitalize_or_join_words(\"i love    python  \")"
   ]
  },
  {
   "cell_type": "code",
   "execution_count": 88,
   "metadata": {
    "deletable": false,
    "editable": false,
    "nbgrader": {
     "cell_type": "code",
     "checksum": "92bd2774d292a5700f0d6980355dd50c",
     "grade": true,
     "grade_id": "test_capitalize_or_join",
     "locked": true,
     "points": 1,
     "schema_version": 3,
     "solution": false,
     "task": false
    }
   },
   "outputs": [
    {
     "name": "stdout",
     "output_type": "stream",
     "text": [
      "Success!\n"
     ]
    }
   ],
   "source": [
    "##########################\n",
    "### TEST YOUR SOLUTION ###\n",
    "##########################\n",
    "\n",
    "string = \"*i love python\"\n",
    "assert_equal(\"I LovE PythoN\",capitalize_or_join_words(string))\n",
    "\n",
    "string = \"i love python\"\n",
    "assert_equal(\"i,love,python\",capitalize_or_join_words(string))\n",
    "\n",
    "string = \"i love    python  \"\n",
    "assert_equal(\"i,love,python\",capitalize_or_join_words(string))\n",
    "print(\"Success!\")"
   ]
  },
  {
   "cell_type": "code",
   "execution_count": 96,
   "metadata": {
    "deletable": false,
    "nbgrader": {
     "cell_type": "code",
     "checksum": "b934daf8bd77c0cff4f44dffc20315e9",
     "grade": false,
     "grade_id": "move_zero",
     "locked": false,
     "schema_version": 3,
     "solution": true,
     "task": false
    }
   },
   "outputs": [
    {
     "data": {
      "text/plain": [
       "[1, 2, 3, 4, 0, 0, 0, 0]"
      ]
     },
     "execution_count": 96,
     "metadata": {},
     "output_type": "execute_result"
    }
   ],
   "source": [
    "def move_zero(lst):\n",
    "    \"\"\"\n",
    "    Given a list of integers, moves all non-zero numbers to the beginning of the list and\n",
    "    moves all zeros to the end of the list.  This function returns nothing and changes the given list itself.\n",
    "\n",
    "    For example:\n",
    "    - After calling move_zero([0,1,0,2,0,3,0,4]), the given list should be [1,2,3,4,0,0,0,0] and the function returns nothing\n",
    "    - After calling move_zero([0,1,2,0,1]), the given list should be [1,2,1,0,0] and the function returns nothing\n",
    "    - After calling move_zero([1,2,3,4,5,6,7,8]), the given list should be [1,2,3,4,5,6,7,8] and the function returns nothing\n",
    "    - After calling move_zero([]), the given list should be [] and the function returns nothing\n",
    "    \"\"\"\n",
    "    # your code here\n",
    "    if lst == []:\n",
    "        return []\n",
    "    else:\n",
    "        num = []\n",
    "        zero = []\n",
    "        for char in lst:\n",
    "            if char == 0:\n",
    "                zero.append(char)\n",
    "            else:\n",
    "                num.append(char)\n",
    "        return num + zero\n",
    "    \n",
    "move_zero([0,1,0,2,0,3,0,4])"
   ]
  },
  {
   "cell_type": "code",
   "execution_count": 97,
   "metadata": {
    "deletable": false,
    "editable": false,
    "nbgrader": {
     "cell_type": "code",
     "checksum": "f608eba28d0aa4f01949e79aadcc161d",
     "grade": true,
     "grade_id": "test_move_zero",
     "locked": true,
     "points": 1,
     "schema_version": 3,
     "solution": false,
     "task": false
    }
   },
   "outputs": [
    {
     "ename": "AssertionError",
     "evalue": "None != [1, 2, 3, 4, 0, 0, 0, 0]",
     "output_type": "error",
     "traceback": [
      "\u001b[0;31m---------------------------------------------------------------------------\u001b[0m",
      "\u001b[0;31mAssertionError\u001b[0m                            Traceback (most recent call last)",
      "\u001b[0;32m<ipython-input-97-7d2b0d5dd8e0>\u001b[0m in \u001b[0;36m<module>\u001b[0;34m\u001b[0m\n\u001b[1;32m      4\u001b[0m \u001b[0;34m\u001b[0m\u001b[0m\n\u001b[1;32m      5\u001b[0m \u001b[0mlst\u001b[0m \u001b[0;34m=\u001b[0m \u001b[0;34m[\u001b[0m\u001b[0;36m0\u001b[0m\u001b[0;34m,\u001b[0m\u001b[0;36m1\u001b[0m\u001b[0;34m,\u001b[0m\u001b[0;36m0\u001b[0m\u001b[0;34m,\u001b[0m\u001b[0;36m2\u001b[0m\u001b[0;34m,\u001b[0m\u001b[0;36m0\u001b[0m\u001b[0;34m,\u001b[0m\u001b[0;36m3\u001b[0m\u001b[0;34m,\u001b[0m\u001b[0;36m0\u001b[0m\u001b[0;34m,\u001b[0m\u001b[0;36m4\u001b[0m\u001b[0;34m]\u001b[0m\u001b[0;34m\u001b[0m\u001b[0;34m\u001b[0m\u001b[0m\n\u001b[0;32m----> 6\u001b[0;31m \u001b[0massert_equal\u001b[0m\u001b[0;34m(\u001b[0m\u001b[0;32mNone\u001b[0m\u001b[0;34m,\u001b[0m\u001b[0mmove_zero\u001b[0m\u001b[0;34m(\u001b[0m\u001b[0mlst\u001b[0m\u001b[0;34m)\u001b[0m\u001b[0;34m)\u001b[0m\u001b[0;34m\u001b[0m\u001b[0;34m\u001b[0m\u001b[0m\n\u001b[0m\u001b[1;32m      7\u001b[0m \u001b[0mnose\u001b[0m\u001b[0;34m.\u001b[0m\u001b[0mtools\u001b[0m\u001b[0;34m.\u001b[0m\u001b[0massert_list_equal\u001b[0m\u001b[0;34m(\u001b[0m\u001b[0;34m[\u001b[0m\u001b[0;36m1\u001b[0m\u001b[0;34m,\u001b[0m\u001b[0;36m2\u001b[0m\u001b[0;34m,\u001b[0m\u001b[0;36m3\u001b[0m\u001b[0;34m,\u001b[0m\u001b[0;36m4\u001b[0m\u001b[0;34m,\u001b[0m\u001b[0;36m0\u001b[0m\u001b[0;34m,\u001b[0m\u001b[0;36m0\u001b[0m\u001b[0;34m,\u001b[0m\u001b[0;36m0\u001b[0m\u001b[0;34m,\u001b[0m\u001b[0;36m0\u001b[0m\u001b[0;34m]\u001b[0m\u001b[0;34m,\u001b[0m\u001b[0mlst\u001b[0m\u001b[0;34m)\u001b[0m\u001b[0;34m\u001b[0m\u001b[0;34m\u001b[0m\u001b[0m\n\u001b[1;32m      8\u001b[0m \u001b[0;34m\u001b[0m\u001b[0m\n",
      "\u001b[0;32m/opt/conda/lib/python3.7/unittest/case.py\u001b[0m in \u001b[0;36massertEqual\u001b[0;34m(self, first, second, msg)\u001b[0m\n\u001b[1;32m    850\u001b[0m         \"\"\"\n\u001b[1;32m    851\u001b[0m         \u001b[0massertion_func\u001b[0m \u001b[0;34m=\u001b[0m \u001b[0mself\u001b[0m\u001b[0;34m.\u001b[0m\u001b[0m_getAssertEqualityFunc\u001b[0m\u001b[0;34m(\u001b[0m\u001b[0mfirst\u001b[0m\u001b[0;34m,\u001b[0m \u001b[0msecond\u001b[0m\u001b[0;34m)\u001b[0m\u001b[0;34m\u001b[0m\u001b[0;34m\u001b[0m\u001b[0m\n\u001b[0;32m--> 852\u001b[0;31m         \u001b[0massertion_func\u001b[0m\u001b[0;34m(\u001b[0m\u001b[0mfirst\u001b[0m\u001b[0;34m,\u001b[0m \u001b[0msecond\u001b[0m\u001b[0;34m,\u001b[0m \u001b[0mmsg\u001b[0m\u001b[0;34m=\u001b[0m\u001b[0mmsg\u001b[0m\u001b[0;34m)\u001b[0m\u001b[0;34m\u001b[0m\u001b[0;34m\u001b[0m\u001b[0m\n\u001b[0m\u001b[1;32m    853\u001b[0m \u001b[0;34m\u001b[0m\u001b[0m\n\u001b[1;32m    854\u001b[0m     \u001b[0;32mdef\u001b[0m \u001b[0massertNotEqual\u001b[0m\u001b[0;34m(\u001b[0m\u001b[0mself\u001b[0m\u001b[0;34m,\u001b[0m \u001b[0mfirst\u001b[0m\u001b[0;34m,\u001b[0m \u001b[0msecond\u001b[0m\u001b[0;34m,\u001b[0m \u001b[0mmsg\u001b[0m\u001b[0;34m=\u001b[0m\u001b[0;32mNone\u001b[0m\u001b[0;34m)\u001b[0m\u001b[0;34m:\u001b[0m\u001b[0;34m\u001b[0m\u001b[0;34m\u001b[0m\u001b[0m\n",
      "\u001b[0;32m/opt/conda/lib/python3.7/unittest/case.py\u001b[0m in \u001b[0;36m_baseAssertEqual\u001b[0;34m(self, first, second, msg)\u001b[0m\n\u001b[1;32m    843\u001b[0m             \u001b[0mstandardMsg\u001b[0m \u001b[0;34m=\u001b[0m \u001b[0;34m'%s != %s'\u001b[0m \u001b[0;34m%\u001b[0m \u001b[0m_common_shorten_repr\u001b[0m\u001b[0;34m(\u001b[0m\u001b[0mfirst\u001b[0m\u001b[0;34m,\u001b[0m \u001b[0msecond\u001b[0m\u001b[0;34m)\u001b[0m\u001b[0;34m\u001b[0m\u001b[0;34m\u001b[0m\u001b[0m\n\u001b[1;32m    844\u001b[0m             \u001b[0mmsg\u001b[0m \u001b[0;34m=\u001b[0m \u001b[0mself\u001b[0m\u001b[0;34m.\u001b[0m\u001b[0m_formatMessage\u001b[0m\u001b[0;34m(\u001b[0m\u001b[0mmsg\u001b[0m\u001b[0;34m,\u001b[0m \u001b[0mstandardMsg\u001b[0m\u001b[0;34m)\u001b[0m\u001b[0;34m\u001b[0m\u001b[0;34m\u001b[0m\u001b[0m\n\u001b[0;32m--> 845\u001b[0;31m             \u001b[0;32mraise\u001b[0m \u001b[0mself\u001b[0m\u001b[0;34m.\u001b[0m\u001b[0mfailureException\u001b[0m\u001b[0;34m(\u001b[0m\u001b[0mmsg\u001b[0m\u001b[0;34m)\u001b[0m\u001b[0;34m\u001b[0m\u001b[0;34m\u001b[0m\u001b[0m\n\u001b[0m\u001b[1;32m    846\u001b[0m \u001b[0;34m\u001b[0m\u001b[0m\n\u001b[1;32m    847\u001b[0m     \u001b[0;32mdef\u001b[0m \u001b[0massertEqual\u001b[0m\u001b[0;34m(\u001b[0m\u001b[0mself\u001b[0m\u001b[0;34m,\u001b[0m \u001b[0mfirst\u001b[0m\u001b[0;34m,\u001b[0m \u001b[0msecond\u001b[0m\u001b[0;34m,\u001b[0m \u001b[0mmsg\u001b[0m\u001b[0;34m=\u001b[0m\u001b[0;32mNone\u001b[0m\u001b[0;34m)\u001b[0m\u001b[0;34m:\u001b[0m\u001b[0;34m\u001b[0m\u001b[0;34m\u001b[0m\u001b[0m\n",
      "\u001b[0;31mAssertionError\u001b[0m: None != [1, 2, 3, 4, 0, 0, 0, 0]"
     ]
    }
   ],
   "source": [
    "##########################\n",
    "### TEST YOUR SOLUTION ###\n",
    "##########################\n",
    "\n",
    "lst = [0,1,0,2,0,3,0,4]\n",
    "assert_equal(None,move_zero(lst))\n",
    "nose.tools.assert_list_equal([1,2,3,4,0,0,0,0],lst)\n",
    "\n",
    "lst = []\n",
    "move_zero(lst)\n",
    "nose.tools.assert_list_equal([],lst)\n",
    "\n",
    "lst = [0,0,0,0,0,0,0,0,0]\n",
    "move_zero(lst)\n",
    "nose.tools.assert_list_equal([0,0,0,0,0,0,0,0,0],lst)\n",
    "\n",
    "lst = [1,2,3,4,5,6,7,8]\n",
    "move_zero(lst)\n",
    "nose.tools.assert_list_equal([1,2,3,4,5,6,7,8],lst)\n",
    "print(\"Success!\")"
   ]
  },
  {
   "cell_type": "code",
   "execution_count": 98,
   "metadata": {
    "deletable": false,
    "editable": false,
    "nbgrader": {
     "cell_type": "code",
     "checksum": "f38ff9888bf35eb5dbdd3b0a4ded5a70",
     "grade": true,
     "grade_id": "main",
     "locked": true,
     "points": 0,
     "schema_version": 3,
     "solution": false,
     "task": false
    }
   },
   "outputs": [
    {
     "name": "stdout",
     "output_type": "stream",
     "text": [
      "test concatenate\n",
      "True\n",
      "==================================================\n",
      "test all_but_last\n",
      "True\n",
      "==================================================\n",
      "test remove_duplicates\n",
      "False\n",
      "==================================================\n",
      "test reverse_word\n",
      "True\n",
      "==================================================\n",
      "test divisors\n",
      "True\n",
      "==================================================\n",
      "test capitalize_or_join_words\n",
      "Result for String Start With *: \n",
      "False\n",
      "Result for Other String: \n",
      "True\n",
      "==================================================\n",
      "test move_zero\n",
      "Before move,the list looks like\n",
      " [0, 1, 0, 2, 0, 3, 4, 0]\n",
      "After move,the list looks like\n",
      " [0, 1, 0, 2, 0, 3, 4, 0]\n",
      "==================================================\n"
     ]
    }
   ],
   "source": [
    "def main():\n",
    "    \"\"\"\n",
    "    Calls all the functions above to see whether they've been implemented correctly.\n",
    "    \"\"\"\n",
    "\n",
    "    # test concatenate\n",
    "    print(\"test concatenate\")\n",
    "    word = concatenate([\"b\", \"e\", \"a\", \"t\", \"l\", \"e\", \"s\"])\n",
    "    print(word == \"beatles\")\n",
    "    print(\"=\" * 50)\n",
    "\n",
    "    # test all_but_last\n",
    "    print(\"test all_but_last\")\n",
    "    seq = all_but_last([\"john\", \"paul\", \"george\", \"ringo\", \"tommy\"])\n",
    "    print(seq == [\"john\", \"paul\", \"george\", \"ringo\"])\n",
    "    print(\"=\" * 50)\n",
    "\n",
    "    # test remove_duplicates\n",
    "    print(\"test remove_duplicates\")\n",
    "    res = remove_duplicates([1, 3, 4, 2, 1])\n",
    "    print(res == [1, 3, 4, 2])\n",
    "    print(\"=\" * 50)\n",
    "\n",
    "    # test reverse_word\n",
    "    print(\"test reverse_word\")\n",
    "    res = reverse_word(\"alphabet\")\n",
    "    print(res == \"tebahpla\")\n",
    "    print(\"=\" * 50)\n",
    "\n",
    "    # test divisors\n",
    "    print(\"test divisors\")\n",
    "    res = divisors(120)\n",
    "    print(set(res) == set([1, 2, 3, 4, 5, 6, 8, 10, 12, 15, 20, 24, 30, 40, 60, 120]))\n",
    "    print(\"=\" * 50)\n",
    "\n",
    "    # test capitalize_or_join_words\n",
    "    print(\"test capitalize_or_join_words\")\n",
    "    print(\"Result for String Start With *: \")\n",
    "    # Should return \"I LovE CodinG AnD I'M HavinG FuN\"\n",
    "    res = capitalize_or_join_words(\"*i love coding and i'm having fun\")\n",
    "    print(res == \"I LovE CodinG AnD I'M HavinG FuN\")\n",
    "\n",
    "    print(\"Result for Other String: \")\n",
    "    # Should print \"I,love,coding,and,I'm,having,fun\"\n",
    "    res = capitalize_or_join_words(\"I love coding and I'm having fun\")\n",
    "    print(res == \"I,love,coding,and,I'm,having,fun\")\n",
    "    print(\"=\" * 50)\n",
    "\n",
    "    # test move_zero\n",
    "    print(\"test move_zero\")\n",
    "    lst = [0, 1, 0, 2, 0, 3, 4, 0]\n",
    "    print(\"Before move,the list looks like\\n\", lst)\n",
    "    move_zero(lst)\n",
    "    print(\"After move,the list looks like\\n\", lst)\n",
    "    print(\"=\" * 50)\n",
    "\n",
    "#This will automatically run the main function in your program\n",
    "#Don't change this\n",
    "if __name__ == '__main__':\n",
    "    main()"
   ]
  },
  {
   "cell_type": "code",
   "execution_count": null,
   "metadata": {},
   "outputs": [],
   "source": []
  }
 ],
 "metadata": {
  "kernelspec": {
   "display_name": "Python 3",
   "language": "python",
   "name": "python3"
  },
  "language_info": {
   "codemirror_mode": {
    "name": "ipython",
    "version": 3
   },
   "file_extension": ".py",
   "mimetype": "text/x-python",
   "name": "python",
   "nbconvert_exporter": "python",
   "pygments_lexer": "ipython3",
   "version": "3.7.6"
  }
 },
 "nbformat": 4,
 "nbformat_minor": 2
}
